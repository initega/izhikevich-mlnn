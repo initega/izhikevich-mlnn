{
 "cells": [
  {
   "cell_type": "code",
   "execution_count": 1,
   "metadata": {
    "collapsed": true
   },
   "outputs": [],
   "source": [
    "from brian2 import *\n",
    "from scipy import stats"
   ]
  },
  {
   "cell_type": "code",
   "execution_count": 13,
   "metadata": {},
   "outputs": [],
   "source": [
    "def model(a_p = 0.02, b_p = 0.2, c_p = -65, d_p = 8, I_p = 15, neurons = 1, duration = 100*ms):\n",
    "    start_scope()\n",
    "\n",
    "    b = b_p/ms\n",
    "    c = c_p * mV\n",
    "    I = I_p*mV/ms\n",
    "\n",
    "\n",
    "    #Neuronal equations of the Izhikevich-neuron\n",
    "    eqs = '''\n",
    "    dv/dt = (0.04/ms/mV)*v**2+(5/ms)*v+140*mV/ms-u+I : volt\n",
    "    du/dt = a*(b*v-u)                                : volt/second\n",
    "    a                                                : 1/second\n",
    "    d                                                : volt/second\n",
    "    '''\n",
    "\n",
    "\n",
    "    reset = '''\n",
    "    v = c\n",
    "    u = u + d\n",
    "    '''\n",
    "\n",
    "\n",
    "    #Set up neuron population\n",
    "    G = NeuronGroup(neurons,eqs,threshold='v >= 30*mV',reset=reset,method='euler')\n",
    "    G.a = a_p/ms\n",
    "    G.d = d_p*mV/ms\n",
    "    G.v = c\n",
    "    G.u = b * c\n",
    "\n",
    "\n",
    "    M = StateMonitor(G,'v', record=True)\n",
    "\n",
    "\n",
    "    run(duration)\n",
    "    \n",
    "    return M"
   ]
  },
  {
   "cell_type": "code",
   "execution_count": 20,
   "metadata": {},
   "outputs": [
    {
     "data": {
      "image/png": "[encoded data removed]",
      "text/plain": [
       "<Figure size 432x288 with 1 Axes>"
      ]
     },
     "metadata": {},
     "output_type": "display_data"
    }
   ],
   "source": [
    "M = model()\n",
    "\n",
    "figure\n",
    "plot(M.t/ms, M.v[0])\n",
    "xlabel('Time (ms)')\n",
    "ylabel('v');\n",
    "\n",
    "show()"
   ]
  },
  {
   "cell_type": "code",
   "execution_count": null,
   "metadata": {
    "collapsed": true
   },
   "outputs": [],
   "source": []
  }
 ],
 "metadata": {
  "kernelspec": {
   "display_name": "Python 3",
   "language": "python",
   "name": "python3"
  },
  "language_info": {
   "codemirror_mode": {
    "name": "ipython",
    "version": 3
   },
   "file_extension": ".py",
   "mimetype": "text/x-python",
   "name": "python",
   "nbconvert_exporter": "python",
   "pygments_lexer": "ipython3",
   "version": "3.6.9"
  }
 },
 "nbformat": 4,
 "nbformat_minor": 2
}
